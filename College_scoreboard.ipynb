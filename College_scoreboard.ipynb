{
  "nbformat": 4,
  "nbformat_minor": 0,
  "metadata": {
    "colab": {
      "name": "College_scoreboard.ipynb",
      "provenance": [],
      "collapsed_sections": []
    },
    "kernelspec": {
      "name": "python3",
      "display_name": "Python 3"
    }
  },
  "cells": [
    {
      "cell_type": "code",
      "metadata": {
        "id": "8sPAeXMvOhsr",
        "colab_type": "code",
        "colab": {
          "base_uri": "https://localhost:8080/",
          "height": 121
        },
        "outputId": "9c8555f4-a20c-44b8-d3ef-7b27e7e79c89"
      },
      "source": [
        "from google.colab import drive\n",
        "drive.mount('drive')"
      ],
      "execution_count": 1,
      "outputs": [
        {
          "output_type": "stream",
          "text": [
            "Go to this URL in a browser: https://accounts.google.com/o/oauth2/auth?client_id=947318989803-6bn6qk8qdgf4n4g3pfee6491hc0brc4i.apps.googleusercontent.com&redirect_uri=urn%3aietf%3awg%3aoauth%3a2.0%3aoob&response_type=code&scope=email%20https%3a%2f%2fwww.googleapis.com%2fauth%2fdocs.test%20https%3a%2f%2fwww.googleapis.com%2fauth%2fdrive%20https%3a%2f%2fwww.googleapis.com%2fauth%2fdrive.photos.readonly%20https%3a%2f%2fwww.googleapis.com%2fauth%2fpeopleapi.readonly\n",
            "\n",
            "Enter your authorization code:\n",
            "··········\n",
            "Mounted at drive\n"
          ],
          "name": "stdout"
        }
      ]
    },
    {
      "cell_type": "code",
      "metadata": {
        "id": "lC-VFdIHPJOY",
        "colab_type": "code",
        "colab": {}
      },
      "source": [
        "import pandas as pd"
      ],
      "execution_count": 0,
      "outputs": []
    },
    {
      "cell_type": "code",
      "metadata": {
        "id": "ABkjQBK8PFQC",
        "colab_type": "code",
        "colab": {
          "base_uri": "https://localhost:8080/",
          "height": 70
        },
        "outputId": "adc94216-9f8a-46d9-f151-f978a8fa3f23"
      },
      "source": [
        "college_data = pd.read_csv('/content/drive/My Drive/MERGED2017_18_PP.csv')\n"
      ],
      "execution_count": 3,
      "outputs": [
        {
          "output_type": "stream",
          "text": [
            "/usr/local/lib/python3.6/dist-packages/IPython/core/interactiveshell.py:2718: DtypeWarning: Columns (31,1726,1727,1728,1729,1815,1817,1823,1830,1879,1880,1881,1882,1883,1884,1885,1886,1887,1888,1889,1890,1891,1892,1893,1894,1895,1896,1897,1898,1957,1958,1959,1960,1961,1962,1963,1964,1965,1966,1967,1968,1969,1970,1971,1972,1973,1974,1975,1976) have mixed types. Specify dtype option on import or set low_memory=False.\n",
            "  interactivity=interactivity, compiler=compiler, result=result)\n"
          ],
          "name": "stderr"
        }
      ]
    },
    {
      "cell_type": "code",
      "metadata": {
        "id": "10WCgH_9Pu1W",
        "colab_type": "code",
        "colab": {
          "base_uri": "https://localhost:8080/",
          "height": 101
        },
        "outputId": "4b577278-d36f-4541-8019-10e7c55ab844"
      },
      "source": [
        "college_data.info()"
      ],
      "execution_count": 4,
      "outputs": [
        {
          "output_type": "stream",
          "text": [
            "<class 'pandas.core.frame.DataFrame'>\n",
            "RangeIndex: 7112 entries, 0 to 7111\n",
            "Columns: 1977 entries, UNITID to OMENRUP_PARTTIME_POOLED_SUPP\n",
            "dtypes: float64(1862), int64(14), object(101)\n",
            "memory usage: 107.3+ MB\n"
          ],
          "name": "stdout"
        }
      ]
    },
    {
      "cell_type": "code",
      "metadata": {
        "id": "p4BTeQv-PyGa",
        "colab_type": "code",
        "colab": {}
      },
      "source": [
        "high_math = college_data[college_data['ACTCM75'] > 28]"
      ],
      "execution_count": 0,
      "outputs": []
    },
    {
      "cell_type": "code",
      "metadata": {
        "id": "P-PRo-T_RQ4v",
        "colab_type": "code",
        "colab": {
          "base_uri": "https://localhost:8080/",
          "height": 101
        },
        "outputId": "23c963b7-aa48-4dc2-8460-b4730eab582e"
      },
      "source": [
        "high_math.info()"
      ],
      "execution_count": 10,
      "outputs": [
        {
          "output_type": "stream",
          "text": [
            "<class 'pandas.core.frame.DataFrame'>\n",
            "Int64Index: 267 entries, 3 to 6452\n",
            "Columns: 1977 entries, UNITID to OMENRUP_PARTTIME_POOLED_SUPP\n",
            "dtypes: float64(1862), int64(14), object(101)\n",
            "memory usage: 4.0+ MB\n"
          ],
          "name": "stdout"
        }
      ]
    },
    {
      "cell_type": "code",
      "metadata": {
        "id": "ZT18pxmRRpux",
        "colab_type": "code",
        "colab": {
          "base_uri": "https://localhost:8080/",
          "height": 402
        },
        "outputId": "77857aa4-15b2-4d76-e9eb-f1e365ca403f"
      },
      "source": [
        "high_math[['ACTCM75','INSTNM']].sort_values(ascending=False,by='ACTCM75')"
      ],
      "execution_count": 64,
      "outputs": [
        {
          "output_type": "execute_result",
          "data": {
            "text/html": [
              "<div>\n",
              "<style scoped>\n",
              "    .dataframe tbody tr th:only-of-type {\n",
              "        vertical-align: middle;\n",
              "    }\n",
              "\n",
              "    .dataframe tbody tr th {\n",
              "        vertical-align: top;\n",
              "    }\n",
              "\n",
              "    .dataframe thead th {\n",
              "        text-align: right;\n",
              "    }\n",
              "</style>\n",
              "<table border=\"1\" class=\"dataframe\">\n",
              "  <thead>\n",
              "    <tr style=\"text-align: right;\">\n",
              "      <th></th>\n",
              "      <th>ACTCM75</th>\n",
              "      <th>INSTNM</th>\n",
              "    </tr>\n",
              "  </thead>\n",
              "  <tbody>\n",
              "    <tr>\n",
              "      <th>212</th>\n",
              "      <td>35.0</td>\n",
              "      <td>California Institute of Technology</td>\n",
              "    </tr>\n",
              "    <tr>\n",
              "      <th>930</th>\n",
              "      <td>35.0</td>\n",
              "      <td>University of Chicago</td>\n",
              "    </tr>\n",
              "    <tr>\n",
              "      <th>633</th>\n",
              "      <td>35.0</td>\n",
              "      <td>Yale University</td>\n",
              "    </tr>\n",
              "    <tr>\n",
              "      <th>2967</th>\n",
              "      <td>35.0</td>\n",
              "      <td>Carnegie Mellon University</td>\n",
              "    </tr>\n",
              "    <tr>\n",
              "      <th>325</th>\n",
              "      <td>35.0</td>\n",
              "      <td>Harvey Mudd College</td>\n",
              "    </tr>\n",
              "    <tr>\n",
              "      <th>...</th>\n",
              "      <td>...</td>\n",
              "      <td>...</td>\n",
              "    </tr>\n",
              "    <tr>\n",
              "      <th>1843</th>\n",
              "      <td>29.0</td>\n",
              "      <td>University of Mississippi</td>\n",
              "    </tr>\n",
              "    <tr>\n",
              "      <th>668</th>\n",
              "      <td>29.0</td>\n",
              "      <td>University of Central Florida</td>\n",
              "    </tr>\n",
              "    <tr>\n",
              "      <th>2850</th>\n",
              "      <td>29.0</td>\n",
              "      <td>University of Oklahoma-Norman Campus</td>\n",
              "    </tr>\n",
              "    <tr>\n",
              "      <th>1846</th>\n",
              "      <td>29.0</td>\n",
              "      <td>Mississippi College</td>\n",
              "    </tr>\n",
              "    <tr>\n",
              "      <th>3096</th>\n",
              "      <td>29.0</td>\n",
              "      <td>Pennsylvania State University-Penn State Mont ...</td>\n",
              "    </tr>\n",
              "  </tbody>\n",
              "</table>\n",
              "<p>267 rows × 2 columns</p>\n",
              "</div>"
            ],
            "text/plain": [
              "      ACTCM75                                             INSTNM\n",
              "212      35.0                 California Institute of Technology\n",
              "930      35.0                              University of Chicago\n",
              "633      35.0                                    Yale University\n",
              "2967     35.0                         Carnegie Mellon University\n",
              "325      35.0                                Harvey Mudd College\n",
              "...       ...                                                ...\n",
              "1843     29.0                          University of Mississippi\n",
              "668      29.0                      University of Central Florida\n",
              "2850     29.0               University of Oklahoma-Norman Campus\n",
              "1846     29.0                                Mississippi College\n",
              "3096     29.0  Pennsylvania State University-Penn State Mont ...\n",
              "\n",
              "[267 rows x 2 columns]"
            ]
          },
          "metadata": {
            "tags": []
          },
          "execution_count": 64
        }
      ]
    },
    {
      "cell_type": "code",
      "metadata": {
        "id": "HDZbMEcRRsj7",
        "colab_type": "code",
        "colab": {}
      },
      "source": [
        "total_math = college_data[college_data['ACTCM75'] > 1]"
      ],
      "execution_count": 0,
      "outputs": []
    },
    {
      "cell_type": "code",
      "metadata": {
        "id": "Y22zTVAoSAKQ",
        "colab_type": "code",
        "colab": {
          "base_uri": "https://localhost:8080/",
          "height": 101
        },
        "outputId": "b5496e7a-b010-46b5-ce01-092798f92246"
      },
      "source": [
        "total_math.info()"
      ],
      "execution_count": 13,
      "outputs": [
        {
          "output_type": "stream",
          "text": [
            "<class 'pandas.core.frame.DataFrame'>\n",
            "Int64Index: 1292 entries, 0 to 6643\n",
            "Columns: 1977 entries, UNITID to OMENRUP_PARTTIME_POOLED_SUPP\n",
            "dtypes: float64(1862), int64(14), object(101)\n",
            "memory usage: 19.5+ MB\n"
          ],
          "name": "stdout"
        }
      ]
    },
    {
      "cell_type": "code",
      "metadata": {
        "id": "QPEk6NhtSBgv",
        "colab_type": "code",
        "colab": {}
      },
      "source": [
        "high_english = college_data[college_data['ACTEN75'] > 28]"
      ],
      "execution_count": 0,
      "outputs": []
    },
    {
      "cell_type": "code",
      "metadata": {
        "id": "Cqya3CjOZpYd",
        "colab_type": "code",
        "colab": {
          "base_uri": "https://localhost:8080/",
          "height": 101
        },
        "outputId": "36e46d0a-84ff-4226-eb2d-7a03ccf4e5f5"
      },
      "source": [
        "high_english.info()"
      ],
      "execution_count": 23,
      "outputs": [
        {
          "output_type": "stream",
          "text": [
            "<class 'pandas.core.frame.DataFrame'>\n",
            "Int64Index: 309 entries, 1 to 6442\n",
            "Columns: 1977 entries, UNITID to OMENRUP_PARTTIME_POOLED_SUPP\n",
            "dtypes: float64(1862), int64(14), object(101)\n",
            "memory usage: 4.7+ MB\n"
          ],
          "name": "stdout"
        }
      ]
    },
    {
      "cell_type": "code",
      "metadata": {
        "id": "hzAISZVYcyFI",
        "colab_type": "code",
        "colab": {
          "base_uri": "https://localhost:8080/",
          "height": 402
        },
        "outputId": "81d417b6-a398-46c5-96d1-1f60ad08ed1e"
      },
      "source": [
        "high_english[['ACTCM75','INSTNM']].sort_values(ascending=False,by='ACTCM75')"
      ],
      "execution_count": 63,
      "outputs": [
        {
          "output_type": "execute_result",
          "data": {
            "text/html": [
              "<div>\n",
              "<style scoped>\n",
              "    .dataframe tbody tr th:only-of-type {\n",
              "        vertical-align: middle;\n",
              "    }\n",
              "\n",
              "    .dataframe tbody tr th {\n",
              "        vertical-align: top;\n",
              "    }\n",
              "\n",
              "    .dataframe thead th {\n",
              "        text-align: right;\n",
              "    }\n",
              "</style>\n",
              "<table border=\"1\" class=\"dataframe\">\n",
              "  <thead>\n",
              "    <tr style=\"text-align: right;\">\n",
              "      <th></th>\n",
              "      <th>ACTCM75</th>\n",
              "      <th>INSTNM</th>\n",
              "    </tr>\n",
              "  </thead>\n",
              "  <tbody>\n",
              "    <tr>\n",
              "      <th>325</th>\n",
              "      <td>35.0</td>\n",
              "      <td>Harvey Mudd College</td>\n",
              "    </tr>\n",
              "    <tr>\n",
              "      <th>3189</th>\n",
              "      <td>35.0</td>\n",
              "      <td>Brown University</td>\n",
              "    </tr>\n",
              "    <tr>\n",
              "      <th>2967</th>\n",
              "      <td>35.0</td>\n",
              "      <td>Carnegie Mellon University</td>\n",
              "    </tr>\n",
              "    <tr>\n",
              "      <th>2498</th>\n",
              "      <td>35.0</td>\n",
              "      <td>Duke University</td>\n",
              "    </tr>\n",
              "    <tr>\n",
              "      <th>1473</th>\n",
              "      <td>35.0</td>\n",
              "      <td>Johns Hopkins University</td>\n",
              "    </tr>\n",
              "    <tr>\n",
              "      <th>...</th>\n",
              "      <td>...</td>\n",
              "      <td>...</td>\n",
              "    </tr>\n",
              "    <tr>\n",
              "      <th>1571</th>\n",
              "      <td>26.0</td>\n",
              "      <td>University of Massachusetts-Boston</td>\n",
              "    </tr>\n",
              "    <tr>\n",
              "      <th>2557</th>\n",
              "      <td>26.0</td>\n",
              "      <td>Queens University of Charlotte</td>\n",
              "    </tr>\n",
              "    <tr>\n",
              "      <th>1616</th>\n",
              "      <td>26.0</td>\n",
              "      <td>University of Massachusetts-Dartmouth</td>\n",
              "    </tr>\n",
              "    <tr>\n",
              "      <th>658</th>\n",
              "      <td>22.0</td>\n",
              "      <td>The Baptist College of Florida</td>\n",
              "    </tr>\n",
              "    <tr>\n",
              "      <th>1500</th>\n",
              "      <td>NaN</td>\n",
              "      <td>United States Naval Academy</td>\n",
              "    </tr>\n",
              "  </tbody>\n",
              "</table>\n",
              "<p>309 rows × 2 columns</p>\n",
              "</div>"
            ],
            "text/plain": [
              "      ACTCM75                                 INSTNM\n",
              "325      35.0                    Harvey Mudd College\n",
              "3189     35.0                       Brown University\n",
              "2967     35.0             Carnegie Mellon University\n",
              "2498     35.0                        Duke University\n",
              "1473     35.0               Johns Hopkins University\n",
              "...       ...                                    ...\n",
              "1571     26.0     University of Massachusetts-Boston\n",
              "2557     26.0         Queens University of Charlotte\n",
              "1616     26.0  University of Massachusetts-Dartmouth\n",
              "658      22.0         The Baptist College of Florida\n",
              "1500      NaN            United States Naval Academy\n",
              "\n",
              "[309 rows x 2 columns]"
            ]
          },
          "metadata": {
            "tags": []
          },
          "execution_count": 63
        }
      ]
    },
    {
      "cell_type": "code",
      "metadata": {
        "id": "nkAUmmqvgOZL",
        "colab_type": "code",
        "colab": {}
      },
      "source": [
        "count_over_75k = college_data['GT_25K_P9']"
      ],
      "execution_count": 0,
      "outputs": []
    },
    {
      "cell_type": "markdown",
      "metadata": {
        "id": "1CCn0bF4iep-",
        "colab_type": "text"
      },
      "source": [
        "this should not be blank, but it is the count of students making over 75k after 10 years from entry or if the parents made over 75k im not sure. Let me see how many columns have data.\n"
      ]
    },
    {
      "cell_type": "code",
      "metadata": {
        "id": "gKzC9H__gowt",
        "colab_type": "code",
        "colab": {
          "base_uri": "https://localhost:8080/",
          "height": 168
        },
        "outputId": "e556067c-4215-4bdb-fd1c-daa1a873e2cf"
      },
      "source": [
        "count_over_75k.describe()"
      ],
      "execution_count": 38,
      "outputs": [
        {
          "output_type": "execute_result",
          "data": {
            "text/plain": [
              "count    0.0\n",
              "mean     NaN\n",
              "std      NaN\n",
              "min      NaN\n",
              "25%      NaN\n",
              "50%      NaN\n",
              "75%      NaN\n",
              "max      NaN\n",
              "Name: GT_25K_P9, dtype: float64"
            ]
          },
          "metadata": {
            "tags": []
          },
          "execution_count": 38
        }
      ]
    },
    {
      "cell_type": "code",
      "metadata": {
        "id": "Rk_y1hfHiuN0",
        "colab_type": "code",
        "colab": {
          "base_uri": "https://localhost:8080/",
          "height": 34
        },
        "outputId": "d9ca11bc-5fdf-4473-c8e2-930d26f5c0bb"
      },
      "source": [
        "len(college_data.columns[college_data.isna().any()].tolist())\n"
      ],
      "execution_count": 32,
      "outputs": [
        {
          "output_type": "execute_result",
          "data": {
            "text/plain": [
              "1958"
            ]
          },
          "metadata": {
            "tags": []
          },
          "execution_count": 32
        }
      ]
    },
    {
      "cell_type": "code",
      "metadata": {
        "id": "-XnRNAgdl3Mb",
        "colab_type": "code",
        "colab": {
          "base_uri": "https://localhost:8080/",
          "height": 50
        },
        "outputId": "27b08f4a-6ea4-4098-95d1-6dd3bf73f159"
      },
      "source": [
        "college_data['PCT90_EARN_WNE_P8'].isna().value_counts()"
      ],
      "execution_count": 36,
      "outputs": [
        {
          "output_type": "execute_result",
          "data": {
            "text/plain": [
              "True    7112\n",
              "Name: PCT90_EARN_WNE_P8, dtype: int64"
            ]
          },
          "metadata": {
            "tags": []
          },
          "execution_count": 36
        }
      ]
    },
    {
      "cell_type": "markdown",
      "metadata": {
        "id": "K_ACK7EkmtAI",
        "colab_type": "text"
      },
      "source": [
        "From the little bit that I have tested the income numbers are completely not reported"
      ]
    },
    {
      "cell_type": "code",
      "metadata": {
        "id": "ptBHYlBlmzi4",
        "colab_type": "code",
        "colab": {}
      },
      "source": [
        "count_over_75k = college_data['NUM45_PUB']"
      ],
      "execution_count": 0,
      "outputs": []
    },
    {
      "cell_type": "code",
      "metadata": {
        "id": "qQ5Akkx1m8wb",
        "colab_type": "code",
        "colab": {
          "base_uri": "https://localhost:8080/",
          "height": 218
        },
        "outputId": "84ca1657-dd9d-422d-e1db-323b352f5450"
      },
      "source": [
        "count_over_75k.value_counts()"
      ],
      "execution_count": 42,
      "outputs": [
        {
          "output_type": "execute_result",
          "data": {
            "text/plain": [
              "0.0      564\n",
              "1.0       78\n",
              "2.0       65\n",
              "4.0       45\n",
              "6.0       38\n",
              "        ... \n",
              "242.0      1\n",
              "312.0      1\n",
              "116.0      1\n",
              "143.0      1\n",
              "999.0      1\n",
              "Name: NUM45_PUB, Length: 343, dtype: int64"
            ]
          },
          "metadata": {
            "tags": []
          },
          "execution_count": 42
        }
      ]
    },
    {
      "cell_type": "code",
      "metadata": {
        "id": "WnzZ7eYlnRAt",
        "colab_type": "code",
        "colab": {
          "base_uri": "https://localhost:8080/",
          "height": 168
        },
        "outputId": "f7650ecf-b9b4-4280-fe4d-66a332879b58"
      },
      "source": [
        "count_over_75k.describe()"
      ],
      "execution_count": 43,
      "outputs": [
        {
          "output_type": "execute_result",
          "data": {
            "text/plain": [
              "count    1889.000000\n",
              "mean       71.291159\n",
              "std       154.627611\n",
              "min         0.000000\n",
              "25%         0.000000\n",
              "50%        10.000000\n",
              "75%        56.000000\n",
              "max      1286.000000\n",
              "Name: NUM45_PUB, dtype: float64"
            ]
          },
          "metadata": {
            "tags": []
          },
          "execution_count": 43
        }
      ]
    },
    {
      "cell_type": "code",
      "metadata": {
        "id": "J_lYOmIyocl-",
        "colab_type": "code",
        "colab": {
          "base_uri": "https://localhost:8080/",
          "height": 218
        },
        "outputId": "3deca627-d023-471e-cb4a-6acaa93572c1"
      },
      "source": [
        "count_over_75k.isnull()"
      ],
      "execution_count": 48,
      "outputs": [
        {
          "output_type": "execute_result",
          "data": {
            "text/plain": [
              "0       False\n",
              "1       False\n",
              "2        True\n",
              "3       False\n",
              "4       False\n",
              "        ...  \n",
              "7107     True\n",
              "7108     True\n",
              "7109     True\n",
              "7110     True\n",
              "7111     True\n",
              "Name: NUM45_PUB, Length: 7112, dtype: bool"
            ]
          },
          "metadata": {
            "tags": []
          },
          "execution_count": 48
        }
      ]
    },
    {
      "cell_type": "markdown",
      "metadata": {
        "id": "iJTRxXQZngzm",
        "colab_type": "text"
      },
      "source": [
        "The median amount of rich parents making $110k per year or more is only 10. Lets see which schools have the most"
      ]
    },
    {
      "cell_type": "code",
      "metadata": {
        "id": "zgfh7HhSnsqW",
        "colab_type": "code",
        "colab": {
          "base_uri": "https://localhost:8080/",
          "height": 402
        },
        "outputId": "99ae2bf2-ee47-41bb-84fa-d6ed5cb7e471"
      },
      "source": [
        "college_data[college_data['NUM45_PUB']> 0][['INSTNM','NUM45_PUB']].sort_values(ascending=False,by='NUM45_PUB')"
      ],
      "execution_count": 56,
      "outputs": [
        {
          "output_type": "execute_result",
          "data": {
            "text/html": [
              "<div>\n",
              "<style scoped>\n",
              "    .dataframe tbody tr th:only-of-type {\n",
              "        vertical-align: middle;\n",
              "    }\n",
              "\n",
              "    .dataframe tbody tr th {\n",
              "        vertical-align: top;\n",
              "    }\n",
              "\n",
              "    .dataframe thead th {\n",
              "        text-align: right;\n",
              "    }\n",
              "</style>\n",
              "<table border=\"1\" class=\"dataframe\">\n",
              "  <thead>\n",
              "    <tr style=\"text-align: right;\">\n",
              "      <th></th>\n",
              "      <th>INSTNM</th>\n",
              "      <th>NUM45_PUB</th>\n",
              "    </tr>\n",
              "  </thead>\n",
              "  <tbody>\n",
              "    <tr>\n",
              "      <th>3094</th>\n",
              "      <td>Pennsylvania State University-Main Campus</td>\n",
              "      <td>1286.0</td>\n",
              "    </tr>\n",
              "    <tr>\n",
              "      <th>1694</th>\n",
              "      <td>Michigan State University</td>\n",
              "      <td>1097.0</td>\n",
              "    </tr>\n",
              "    <tr>\n",
              "      <th>2130</th>\n",
              "      <td>Rutgers University-New Brunswick</td>\n",
              "      <td>1083.0</td>\n",
              "    </tr>\n",
              "    <tr>\n",
              "      <th>2658</th>\n",
              "      <td>University of Cincinnati-Main Campus</td>\n",
              "      <td>1064.0</td>\n",
              "    </tr>\n",
              "    <tr>\n",
              "      <th>3545</th>\n",
              "      <td>Texas A &amp; M University-College Station</td>\n",
              "      <td>1036.0</td>\n",
              "    </tr>\n",
              "    <tr>\n",
              "      <th>...</th>\n",
              "      <td>...</td>\n",
              "      <td>...</td>\n",
              "    </tr>\n",
              "    <tr>\n",
              "      <th>317</th>\n",
              "      <td>Glendale Community College</td>\n",
              "      <td>1.0</td>\n",
              "    </tr>\n",
              "    <tr>\n",
              "      <th>1312</th>\n",
              "      <td>Hopkinsville Community College</td>\n",
              "      <td>1.0</td>\n",
              "    </tr>\n",
              "    <tr>\n",
              "      <th>4462</th>\n",
              "      <td>South Texas College</td>\n",
              "      <td>1.0</td>\n",
              "    </tr>\n",
              "    <tr>\n",
              "      <th>4436</th>\n",
              "      <td>Eastland-Fairfield Career and Technical Schools</td>\n",
              "      <td>1.0</td>\n",
              "    </tr>\n",
              "    <tr>\n",
              "      <th>166</th>\n",
              "      <td>Southeast Arkansas College</td>\n",
              "      <td>1.0</td>\n",
              "    </tr>\n",
              "  </tbody>\n",
              "</table>\n",
              "<p>1325 rows × 2 columns</p>\n",
              "</div>"
            ],
            "text/plain": [
              "                                               INSTNM  NUM45_PUB\n",
              "3094        Pennsylvania State University-Main Campus     1286.0\n",
              "1694                        Michigan State University     1097.0\n",
              "2130                 Rutgers University-New Brunswick     1083.0\n",
              "2658             University of Cincinnati-Main Campus     1064.0\n",
              "3545           Texas A & M University-College Station     1036.0\n",
              "...                                               ...        ...\n",
              "317                        Glendale Community College        1.0\n",
              "1312                   Hopkinsville Community College        1.0\n",
              "4462                              South Texas College        1.0\n",
              "4436  Eastland-Fairfield Career and Technical Schools        1.0\n",
              "166                        Southeast Arkansas College        1.0\n",
              "\n",
              "[1325 rows x 2 columns]"
            ]
          },
          "metadata": {
            "tags": []
          },
          "execution_count": 56
        }
      ]
    },
    {
      "cell_type": "code",
      "metadata": {
        "id": "YH21BZRFtwHs",
        "colab_type": "code",
        "colab": {}
      },
      "source": [
        "count_under_30k = college_data['NUM41_PUB']"
      ],
      "execution_count": 0,
      "outputs": []
    },
    {
      "cell_type": "code",
      "metadata": {
        "id": "zxDhc0_HravE",
        "colab_type": "code",
        "colab": {
          "base_uri": "https://localhost:8080/",
          "height": 218
        },
        "outputId": "3794630a-2104-4b3a-88fb-b46797722aac"
      },
      "source": [
        "count_under_30k.sort_values(ascending=False)"
      ],
      "execution_count": 59,
      "outputs": [
        {
          "output_type": "execute_result",
          "data": {
            "text/plain": [
              "729     3894.0\n",
              "2247    3093.0\n",
              "1102    2394.0\n",
              "704     2316.0\n",
              "779     2214.0\n",
              "         ...  \n",
              "7107       NaN\n",
              "7108       NaN\n",
              "7109       NaN\n",
              "7110       NaN\n",
              "7111       NaN\n",
              "Name: NUM41_PUB, Length: 7112, dtype: float64"
            ]
          },
          "metadata": {
            "tags": []
          },
          "execution_count": 59
        }
      ]
    },
    {
      "cell_type": "code",
      "metadata": {
        "id": "JJTpYkMbvab-",
        "colab_type": "code",
        "colab": {
          "base_uri": "https://localhost:8080/",
          "height": 168
        },
        "outputId": "a67113d9-fee7-41d0-a6d8-4619f59ad1de"
      },
      "source": [
        "count_under_30k.describe()"
      ],
      "execution_count": 62,
      "outputs": [
        {
          "output_type": "execute_result",
          "data": {
            "text/plain": [
              "count    1889.000000\n",
              "mean      217.399153\n",
              "std       280.898097\n",
              "min         0.000000\n",
              "25%        46.000000\n",
              "50%       126.000000\n",
              "75%       288.000000\n",
              "max      3894.000000\n",
              "Name: NUM41_PUB, dtype: float64"
            ]
          },
          "metadata": {
            "tags": []
          },
          "execution_count": 62
        }
      ]
    },
    {
      "cell_type": "code",
      "metadata": {
        "id": "VkzEL1GIvO3d",
        "colab_type": "code",
        "colab": {
          "base_uri": "https://localhost:8080/",
          "height": 402
        },
        "outputId": "838ac459-23e7-4323-a119-6d1887b3d75b"
      },
      "source": [
        "college_data[college_data['NUM42_PUB']> 0][['INSTNM','NUM42_PUB']].sort_values(ascending=False,by='NUM42_PUB')"
      ],
      "execution_count": 60,
      "outputs": [
        {
          "output_type": "execute_result",
          "data": {
            "text/html": [
              "<div>\n",
              "<style scoped>\n",
              "    .dataframe tbody tr th:only-of-type {\n",
              "        vertical-align: middle;\n",
              "    }\n",
              "\n",
              "    .dataframe tbody tr th {\n",
              "        vertical-align: top;\n",
              "    }\n",
              "\n",
              "    .dataframe thead th {\n",
              "        text-align: right;\n",
              "    }\n",
              "</style>\n",
              "<table border=\"1\" class=\"dataframe\">\n",
              "  <thead>\n",
              "    <tr style=\"text-align: right;\">\n",
              "      <th></th>\n",
              "      <th>INSTNM</th>\n",
              "      <th>NUM42_PUB</th>\n",
              "    </tr>\n",
              "  </thead>\n",
              "  <tbody>\n",
              "    <tr>\n",
              "      <th>729</th>\n",
              "      <td>Miami Dade College</td>\n",
              "      <td>970.0</td>\n",
              "    </tr>\n",
              "    <tr>\n",
              "      <th>233</th>\n",
              "      <td>University of California-Riverside</td>\n",
              "      <td>842.0</td>\n",
              "    </tr>\n",
              "    <tr>\n",
              "      <th>2247</th>\n",
              "      <td>CUNY Borough of Manhattan Community College</td>\n",
              "      <td>816.0</td>\n",
              "    </tr>\n",
              "    <tr>\n",
              "      <th>231</th>\n",
              "      <td>University of California-Irvine</td>\n",
              "      <td>713.0</td>\n",
              "    </tr>\n",
              "    <tr>\n",
              "      <th>227</th>\n",
              "      <td>California State University-Northridge</td>\n",
              "      <td>694.0</td>\n",
              "    </tr>\n",
              "    <tr>\n",
              "      <th>...</th>\n",
              "      <td>...</td>\n",
              "      <td>...</td>\n",
              "    </tr>\n",
              "    <tr>\n",
              "      <th>4523</th>\n",
              "      <td>South Central Career Center</td>\n",
              "      <td>1.0</td>\n",
              "    </tr>\n",
              "    <tr>\n",
              "      <th>3394</th>\n",
              "      <td>Alvin Community College</td>\n",
              "      <td>1.0</td>\n",
              "    </tr>\n",
              "    <tr>\n",
              "      <th>4007</th>\n",
              "      <td>Francis Tuttle Technology Center</td>\n",
              "      <td>1.0</td>\n",
              "    </tr>\n",
              "    <tr>\n",
              "      <th>4010</th>\n",
              "      <td>Career Technology Center of Lackawanna County</td>\n",
              "      <td>1.0</td>\n",
              "    </tr>\n",
              "    <tr>\n",
              "      <th>4912</th>\n",
              "      <td>East Valley Institute of Technology</td>\n",
              "      <td>1.0</td>\n",
              "    </tr>\n",
              "  </tbody>\n",
              "</table>\n",
              "<p>1786 rows × 2 columns</p>\n",
              "</div>"
            ],
            "text/plain": [
              "                                             INSTNM  NUM42_PUB\n",
              "729                              Miami Dade College      970.0\n",
              "233              University of California-Riverside      842.0\n",
              "2247    CUNY Borough of Manhattan Community College      816.0\n",
              "231                 University of California-Irvine      713.0\n",
              "227          California State University-Northridge      694.0\n",
              "...                                             ...        ...\n",
              "4523                    South Central Career Center        1.0\n",
              "3394                        Alvin Community College        1.0\n",
              "4007               Francis Tuttle Technology Center        1.0\n",
              "4010  Career Technology Center of Lackawanna County        1.0\n",
              "4912            East Valley Institute of Technology        1.0\n",
              "\n",
              "[1786 rows x 2 columns]"
            ]
          },
          "metadata": {
            "tags": []
          },
          "execution_count": 60
        }
      ]
    },
    {
      "cell_type": "code",
      "metadata": {
        "id": "smEegz_mz1Gt",
        "colab_type": "code",
        "colab": {
          "base_uri": "https://localhost:8080/",
          "height": 402
        },
        "outputId": "d9bb93dc-fcc6-429b-b97d-65cf5a239926"
      },
      "source": [
        "most_expensive = college_data[college_data['TUITIONFEE_IN']>0][['INSTNM','TUITIONFEE_IN']].sort_values(ascending=False,by='TUITIONFEE_IN')\n",
        "most_expensive"
      ],
      "execution_count": 66,
      "outputs": [
        {
          "output_type": "execute_result",
          "data": {
            "text/html": [
              "<div>\n",
              "<style scoped>\n",
              "    .dataframe tbody tr th:only-of-type {\n",
              "        vertical-align: middle;\n",
              "    }\n",
              "\n",
              "    .dataframe tbody tr th {\n",
              "        vertical-align: top;\n",
              "    }\n",
              "\n",
              "    .dataframe thead th {\n",
              "        text-align: right;\n",
              "    }\n",
              "</style>\n",
              "<table border=\"1\" class=\"dataframe\">\n",
              "  <thead>\n",
              "    <tr style=\"text-align: right;\">\n",
              "      <th></th>\n",
              "      <th>INSTNM</th>\n",
              "      <th>TUITIONFEE_IN</th>\n",
              "    </tr>\n",
              "  </thead>\n",
              "  <tbody>\n",
              "    <tr>\n",
              "      <th>5199</th>\n",
              "      <td>Aviator College of Aeronautical Science and Te...</td>\n",
              "      <td>74514.0</td>\n",
              "    </tr>\n",
              "    <tr>\n",
              "      <th>2233</th>\n",
              "      <td>Columbia University in the City of New York</td>\n",
              "      <td>57208.0</td>\n",
              "    </tr>\n",
              "    <tr>\n",
              "      <th>930</th>\n",
              "      <td>University of Chicago</td>\n",
              "      <td>56034.0</td>\n",
              "    </tr>\n",
              "    <tr>\n",
              "      <th>2451</th>\n",
              "      <td>Vassar College</td>\n",
              "      <td>55210.0</td>\n",
              "    </tr>\n",
              "    <tr>\n",
              "      <th>627</th>\n",
              "      <td>Trinity College</td>\n",
              "      <td>54770.0</td>\n",
              "    </tr>\n",
              "    <tr>\n",
              "      <th>...</th>\n",
              "      <td>...</td>\n",
              "      <td>...</td>\n",
              "    </tr>\n",
              "    <tr>\n",
              "      <th>5415</th>\n",
              "      <td>Escuela De Troqueleria Y Herramentaje</td>\n",
              "      <td>1040.0</td>\n",
              "    </tr>\n",
              "    <tr>\n",
              "      <th>2448</th>\n",
              "      <td>United States Merchant Marine Academy</td>\n",
              "      <td>1020.0</td>\n",
              "    </tr>\n",
              "    <tr>\n",
              "      <th>4097</th>\n",
              "      <td>Luna Community College</td>\n",
              "      <td>962.0</td>\n",
              "    </tr>\n",
              "    <tr>\n",
              "      <th>4974</th>\n",
              "      <td>Tohono O'Odham Community College</td>\n",
              "      <td>932.0</td>\n",
              "    </tr>\n",
              "    <tr>\n",
              "      <th>1249</th>\n",
              "      <td>Haskell Indian Nations University</td>\n",
              "      <td>480.0</td>\n",
              "    </tr>\n",
              "  </tbody>\n",
              "</table>\n",
              "<p>4021 rows × 2 columns</p>\n",
              "</div>"
            ],
            "text/plain": [
              "                                                 INSTNM  TUITIONFEE_IN\n",
              "5199  Aviator College of Aeronautical Science and Te...        74514.0\n",
              "2233        Columbia University in the City of New York        57208.0\n",
              "930                               University of Chicago        56034.0\n",
              "2451                                     Vassar College        55210.0\n",
              "627                                     Trinity College        54770.0\n",
              "...                                                 ...            ...\n",
              "5415              Escuela De Troqueleria Y Herramentaje         1040.0\n",
              "2448              United States Merchant Marine Academy         1020.0\n",
              "4097                             Luna Community College          962.0\n",
              "4974                   Tohono O'Odham Community College          932.0\n",
              "1249                  Haskell Indian Nations University          480.0\n",
              "\n",
              "[4021 rows x 2 columns]"
            ]
          },
          "metadata": {
            "tags": []
          },
          "execution_count": 66
        }
      ]
    },
    {
      "cell_type": "code",
      "metadata": {
        "id": "9uln7Z-d0mWU",
        "colab_type": "code",
        "colab": {
          "base_uri": "https://localhost:8080/",
          "height": 402
        },
        "outputId": "168eda66-f022-4e7d-cf15-7922d122886e"
      },
      "source": [
        "college_data[college_data['TUITIONFEE_IN']>0][['INSTNM','TUITIONFEE_IN']].sort_values(ascending=True,by='TUITIONFEE_IN')"
      ],
      "execution_count": 67,
      "outputs": [
        {
          "output_type": "execute_result",
          "data": {
            "text/html": [
              "<div>\n",
              "<style scoped>\n",
              "    .dataframe tbody tr th:only-of-type {\n",
              "        vertical-align: middle;\n",
              "    }\n",
              "\n",
              "    .dataframe tbody tr th {\n",
              "        vertical-align: top;\n",
              "    }\n",
              "\n",
              "    .dataframe thead th {\n",
              "        text-align: right;\n",
              "    }\n",
              "</style>\n",
              "<table border=\"1\" class=\"dataframe\">\n",
              "  <thead>\n",
              "    <tr style=\"text-align: right;\">\n",
              "      <th></th>\n",
              "      <th>INSTNM</th>\n",
              "      <th>TUITIONFEE_IN</th>\n",
              "    </tr>\n",
              "  </thead>\n",
              "  <tbody>\n",
              "    <tr>\n",
              "      <th>1249</th>\n",
              "      <td>Haskell Indian Nations University</td>\n",
              "      <td>480.0</td>\n",
              "    </tr>\n",
              "    <tr>\n",
              "      <th>4974</th>\n",
              "      <td>Tohono O'Odham Community College</td>\n",
              "      <td>932.0</td>\n",
              "    </tr>\n",
              "    <tr>\n",
              "      <th>4097</th>\n",
              "      <td>Luna Community College</td>\n",
              "      <td>962.0</td>\n",
              "    </tr>\n",
              "    <tr>\n",
              "      <th>2448</th>\n",
              "      <td>United States Merchant Marine Academy</td>\n",
              "      <td>1020.0</td>\n",
              "    </tr>\n",
              "    <tr>\n",
              "      <th>5415</th>\n",
              "      <td>Escuela De Troqueleria Y Herramentaje</td>\n",
              "      <td>1040.0</td>\n",
              "    </tr>\n",
              "    <tr>\n",
              "      <th>...</th>\n",
              "      <td>...</td>\n",
              "      <td>...</td>\n",
              "    </tr>\n",
              "    <tr>\n",
              "      <th>627</th>\n",
              "      <td>Trinity College</td>\n",
              "      <td>54770.0</td>\n",
              "    </tr>\n",
              "    <tr>\n",
              "      <th>2451</th>\n",
              "      <td>Vassar College</td>\n",
              "      <td>55210.0</td>\n",
              "    </tr>\n",
              "    <tr>\n",
              "      <th>930</th>\n",
              "      <td>University of Chicago</td>\n",
              "      <td>56034.0</td>\n",
              "    </tr>\n",
              "    <tr>\n",
              "      <th>2233</th>\n",
              "      <td>Columbia University in the City of New York</td>\n",
              "      <td>57208.0</td>\n",
              "    </tr>\n",
              "    <tr>\n",
              "      <th>5199</th>\n",
              "      <td>Aviator College of Aeronautical Science and Te...</td>\n",
              "      <td>74514.0</td>\n",
              "    </tr>\n",
              "  </tbody>\n",
              "</table>\n",
              "<p>4021 rows × 2 columns</p>\n",
              "</div>"
            ],
            "text/plain": [
              "                                                 INSTNM  TUITIONFEE_IN\n",
              "1249                  Haskell Indian Nations University          480.0\n",
              "4974                   Tohono O'Odham Community College          932.0\n",
              "4097                             Luna Community College          962.0\n",
              "2448              United States Merchant Marine Academy         1020.0\n",
              "5415              Escuela De Troqueleria Y Herramentaje         1040.0\n",
              "...                                                 ...            ...\n",
              "627                                     Trinity College        54770.0\n",
              "2451                                     Vassar College        55210.0\n",
              "930                               University of Chicago        56034.0\n",
              "2233        Columbia University in the City of New York        57208.0\n",
              "5199  Aviator College of Aeronautical Science and Te...        74514.0\n",
              "\n",
              "[4021 rows x 2 columns]"
            ]
          },
          "metadata": {
            "tags": []
          },
          "execution_count": 67
        }
      ]
    },
    {
      "cell_type": "markdown",
      "metadata": {
        "id": "Ifv012MTSOfS",
        "colab_type": "text"
      },
      "source": [
        "I should explore the data by finding out answers that I find interesting\n",
        "1. Best math schools by highest 75th percentile math sat\n",
        "2. best english schools by higher 75th english sat\n",
        "3. most expensive schools by tuition\n",
        "4. least expensive schools by tuition\n",
        "5. where the richest parnts kids go to school\n",
        "6. most computer science degrees by percentage\n",
        "7. Highest earning schools\n",
        "8. Lowest Earning Schools \n",
        "9. heatmap of best school by cost,scores,and earnings/tuiton\n"
      ]
    }
  ]
}